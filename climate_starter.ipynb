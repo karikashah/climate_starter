{
 "cells": [
  {
   "cell_type": "code",
   "execution_count": 1,
   "metadata": {},
   "outputs": [],
   "source": [
    "%matplotlib inline\n",
    "from matplotlib import style\n",
    "style.use('fivethirtyeight')\n",
    "import matplotlib.pyplot as plt\n",
    "import numpy as np\n",
    "import pandas as pd\n",
    "import datetime as dt"
   ]
  },
  {
   "cell_type": "markdown",
   "metadata": {},
   "source": [
    "# Reflect Tables into SQLAlchemy ORM"
   ]
  },
  {
   "cell_type": "code",
   "execution_count": 2,
   "metadata": {},
   "outputs": [],
   "source": [
    "# Python SQL toolkit and Object Relational Mapper\n",
    "import sqlalchemy\n",
    "from sqlalchemy.ext.automap import automap_base\n",
    "from sqlalchemy.orm import Session\n",
    "from sqlalchemy import create_engine, func, inspect"
   ]
  },
  {
   "cell_type": "code",
   "execution_count": 3,
   "metadata": {},
   "outputs": [],
   "source": [
    "engine = create_engine(\"sqlite:///./Resources/hawaii.sqlite\")"
   ]
  },
  {
   "cell_type": "code",
   "execution_count": 4,
   "metadata": {},
   "outputs": [
    {
     "data": {
      "text/plain": [
       "['measurement', 'station']"
      ]
     },
     "execution_count": 4,
     "metadata": {},
     "output_type": "execute_result"
    }
   ],
   "source": [
    "# Inspect database\n",
    "inspector = inspect(engine)\n",
    "inspector.get_table_names()"
   ]
  },
  {
   "cell_type": "code",
   "execution_count": 5,
   "metadata": {},
   "outputs": [
    {
     "name": "stdout",
     "output_type": "stream",
     "text": [
      "id INTEGER\n",
      "station TEXT\n",
      "date TEXT\n",
      "prcp FLOAT\n",
      "tobs FLOAT\n"
     ]
    }
   ],
   "source": [
    "# Get a list of column names and types for measurements table\n",
    "columns = inspector.get_columns('measurement')\n",
    "for c in columns:\n",
    "    print(c['name'], c[\"type\"])"
   ]
  },
  {
   "cell_type": "code",
   "execution_count": 6,
   "metadata": {},
   "outputs": [
    {
     "name": "stdout",
     "output_type": "stream",
     "text": [
      "id INTEGER\n",
      "station TEXT\n",
      "name TEXT\n",
      "latitude FLOAT\n",
      "longitude FLOAT\n",
      "elevation FLOAT\n"
     ]
    }
   ],
   "source": [
    "# Get a list of column names and types for stations table\n",
    "columns = inspector.get_columns('station')\n",
    "for c in columns:\n",
    "    print(c['name'], c[\"type\"])"
   ]
  },
  {
   "cell_type": "code",
   "execution_count": 7,
   "metadata": {},
   "outputs": [
    {
     "data": {
      "text/plain": [
       "{'constrained_columns': ['id'], 'name': None}"
      ]
     },
     "execution_count": 7,
     "metadata": {},
     "output_type": "execute_result"
    }
   ],
   "source": [
    "columns = inspector.get_pk_constraint('station')\n",
    "columns"
   ]
  },
  {
   "cell_type": "code",
   "execution_count": 8,
   "metadata": {},
   "outputs": [],
   "source": [
    "# reflect an existing database into a new model\n",
    "Base = automap_base()\n",
    "# reflect the tables\n",
    "Base.prepare(engine, reflect=True)"
   ]
  },
  {
   "cell_type": "code",
   "execution_count": 9,
   "metadata": {},
   "outputs": [
    {
     "data": {
      "text/plain": [
       "['measurement', 'station']"
      ]
     },
     "execution_count": 9,
     "metadata": {},
     "output_type": "execute_result"
    }
   ],
   "source": [
    "# We can view all of the classes that automap found\n",
    "Base.classes.keys()"
   ]
  },
  {
   "cell_type": "code",
   "execution_count": 10,
   "metadata": {},
   "outputs": [],
   "source": [
    "# Save references to each table\n",
    "Measurement = Base.classes.measurement\n",
    "Station = Base.classes.station"
   ]
  },
  {
   "cell_type": "code",
   "execution_count": 11,
   "metadata": {},
   "outputs": [],
   "source": [
    "# Create our session (link) from Python to the DB\n",
    "session = Session(engine)"
   ]
  },
  {
   "cell_type": "markdown",
   "metadata": {},
   "source": [
    "# Exploratory Climate Analysis"
   ]
  },
  {
   "cell_type": "code",
   "execution_count": 14,
   "metadata": {},
   "outputs": [
    {
     "data": {
      "image/png": "[encoded data removed]",
      "text/plain": [
       "<Figure size 432x288 with 1 Axes>"
      ]
     },
     "metadata": {
      "needs_background": "light"
     },
     "output_type": "display_data"
    }
   ],
   "source": [
    "# Design a query to retrieve the last 12 months of precipitation data and plot the results\n",
    "last_date = session.query(Measurement.date).order_by(Measurement.date.desc()).first().date\n",
    "\n",
    "# Calculate the date 1 year ago from the last data point in the database\n",
    "last_year = dt.datetime.strptime(last_date, '%Y-%m-%d') - dt.timedelta(days=365)\n",
    "\n",
    "# Perform a query to retrieve the date and precipitation scores (working with actual data)\n",
    "rain_results = session.query(Measurement.date, Measurement.prcp).\\\n",
    "    filter(Measurement.date >= last_year).\\\n",
    "    order_by(Measurement.date).all()\n",
    "\n",
    "# Save the query results as a Pandas DataFrame and set the index to the date column \n",
    "precipitation_df = pd.DataFrame(rain_results, columns=['Date', 'Precipitation'])\n",
    "precipitation_df.set_index('Date', inplace=True)\n",
    "precipitation_df = precipitation_df.dropna()\n",
    "\n",
    "# Use Pandas Plotting with Matplotlib to plot the data\n",
    "ax = precipitation_df.plot().get_figure()\n",
    "ax.savefig(\"Output/Precipitation_last_12months.png\")"
   ]
  },
  {
   "cell_type": "code",
   "execution_count": 15,
   "metadata": {},
   "outputs": [
    {
     "data": {
      "text/html": [
       "<div>\n",
       "<style scoped>\n",
       "    .dataframe tbody tr th:only-of-type {\n",
       "        vertical-align: middle;\n",
       "    }\n",
       "\n",
       "    .dataframe tbody tr th {\n",
       "        vertical-align: top;\n",
       "    }\n",
       "\n",
       "    .dataframe thead th {\n",
       "        text-align: right;\n",
       "    }\n",
       "</style>\n",
       "<table border=\"1\" class=\"dataframe\">\n",
       "  <thead>\n",
       "    <tr style=\"text-align: right;\">\n",
       "      <th></th>\n",
       "      <th>Precipitation</th>\n",
       "    </tr>\n",
       "  </thead>\n",
       "  <tbody>\n",
       "    <tr>\n",
       "      <th>count</th>\n",
       "      <td>2015.000000</td>\n",
       "    </tr>\n",
       "    <tr>\n",
       "      <th>mean</th>\n",
       "      <td>0.176462</td>\n",
       "    </tr>\n",
       "    <tr>\n",
       "      <th>std</th>\n",
       "      <td>0.460288</td>\n",
       "    </tr>\n",
       "    <tr>\n",
       "      <th>min</th>\n",
       "      <td>0.000000</td>\n",
       "    </tr>\n",
       "    <tr>\n",
       "      <th>25%</th>\n",
       "      <td>0.000000</td>\n",
       "    </tr>\n",
       "    <tr>\n",
       "      <th>50%</th>\n",
       "      <td>0.020000</td>\n",
       "    </tr>\n",
       "    <tr>\n",
       "      <th>75%</th>\n",
       "      <td>0.130000</td>\n",
       "    </tr>\n",
       "    <tr>\n",
       "      <th>max</th>\n",
       "      <td>6.700000</td>\n",
       "    </tr>\n",
       "  </tbody>\n",
       "</table>\n",
       "</div>"
      ],
      "text/plain": [
       "       Precipitation\n",
       "count    2015.000000\n",
       "mean        0.176462\n",
       "std         0.460288\n",
       "min         0.000000\n",
       "25%         0.000000\n",
       "50%         0.020000\n",
       "75%         0.130000\n",
       "max         6.700000"
      ]
     },
     "execution_count": 15,
     "metadata": {},
     "output_type": "execute_result"
    }
   ],
   "source": [
    "# Use Pandas to calcualte the summary statistics for the precipitation data\n",
    "precipitation_df.describe()"
   ]
  },
  {
   "cell_type": "code",
   "execution_count": 16,
   "metadata": {},
   "outputs": [
    {
     "name": "stdout",
     "output_type": "stream",
     "text": [
      "There are 9 stations.\n"
     ]
    }
   ],
   "source": [
    "# Design a query to show how many stations are available in this dataset?\n",
    "locations = session.query(Station)\n",
    "print(\"There are {} stations.\".format(locations.count()))"
   ]
  },
  {
   "cell_type": "code",
   "execution_count": 23,
   "metadata": {},
   "outputs": [
    {
     "name": "stdout",
     "output_type": "stream",
     "text": [
      "The most active stations information is as follows: \n",
      " Name    : WAIHEE 837.5, HI US \n",
      " Station : USC00519281\n",
      " Count   : 2772\n",
      "\n",
      "List of the stations and the counts in descending order:\n",
      "Station        Counts\n",
      "-----------------------\n",
      "USC00519281     2772\n",
      "USC00519397     2724\n",
      "USC00513117     2709\n",
      "USC00519523     2669\n",
      "USC00516128     2612\n",
      "USC00514830     2202\n",
      "USC00511918     1979\n",
      "USC00517948     1372\n",
      "USC00518838     511\n"
     ]
    }
   ],
   "source": [
    "# What are the most active stations? (i.e. what stations have the most rows)?\n",
    "# List the stations and the counts in descending order.\n",
    "active_stations_descending = session.query(Measurement.station, func.count(Measurement.station)).\\\n",
    "        group_by(Measurement.station).order_by(func.count(Measurement.station).desc()).all()\n",
    "\n",
    "most_active_station_name = \"\"\n",
    "most_active_station = active_stations_descending[0][0]\n",
    "\n",
    "for location in locations:\n",
    "    if(location.station == active_stations_descending[0][0]):\n",
    "        most_active_station_name = location.name \n",
    "print(f\"The most active stations information is as follows: \")\n",
    "print(f\" Name    : {most_active_station_name} \")\n",
    "print(f\" Station : {active_stations_descending[0][0]}\")\n",
    "print(f\" Count   : {active_stations_descending[0][1]}\")\n",
    "print(\"\")\n",
    "print(\"List of the stations and the counts in descending order:\")\n",
    "print(\"Station        Counts\")\n",
    "print(\"-----------------------\")\n",
    "for active_station_descending in active_stations_descending:\n",
    "    print(active_station_descending[0], \"   \", active_station_descending[1])"
   ]
  },
  {
   "cell_type": "code",
   "execution_count": 26,
   "metadata": {},
   "outputs": [
    {
     "name": "stdout",
     "output_type": "stream",
     "text": [
      "The Lowest, Highest & the average temperature for most active station USC00519281 is :\n",
      " Low  : 54.0\n",
      " High : 85.0\n",
      " Avg  : 71.66378066378067\n"
     ]
    }
   ],
   "source": [
    "# Using the station id from the previous query, calculate the lowest temperature recorded, \n",
    "# highest temperature recorded, and average temperature most active station?\n",
    "temperature_frequencies = session.query(func.min(Measurement.tobs), func.max(Measurement.tobs), func.avg(Measurement.tobs)).\\\n",
    "    filter(Measurement.station == most_active_station).all()\n",
    "print(f\"The Lowest, Highest & the average temperature for most active station {most_active_station} is :\")\n",
    "print(f\" Low  : {temperature_frequencies[0][0]}\")\n",
    "print(f\" High : {temperature_frequencies[0][1]}\")\n",
    "print(f\" Avg  : {temperature_frequencies[0][2]}\")"
   ]
  },
  {
   "cell_type": "code",
   "execution_count": 27,
   "metadata": {},
   "outputs": [
    {
     "data": {
      "image/png": "[encoded data removed]",
      "text/plain": [
       "<Figure size 432x288 with 1 Axes>"
      ]
     },
     "metadata": {
      "needs_background": "light"
     },
     "output_type": "display_data"
    }
   ],
   "source": [
    "# Choose the station with the highest number of temperature observations.\n",
    "# Query the last 12 months of temperature observation data for this station and plot the results as a histogram\n",
    "temp_results = session.query(Measurement.date, Measurement.tobs).\\\n",
    "    filter(Measurement.station == most_active_station).filter(Measurement.date >= last_year).\\\n",
    "    group_by(Measurement.date).all()\n",
    "\n",
    "# Put data into dataframe so it can be plotted as histogram\n",
    "temp_results_df = pd.DataFrame(data=temp_results, columns=[\"date\", \"tobs\"])\n",
    "temp_results_df = temp_results_df.set_index('date', drop=True)\n",
    "\n",
    "#Plot the results as a histogram with bins=12\n",
    "plt.hist(temp_results_df['tobs'],12, label=\"tobs\")\n",
    "plt.ylabel(\"Frequency\", fontsize=11)\n",
    "plt.legend()\n",
    "plt.savefig(\"Output/Temperature_for_active station_last_12months.png\")\n",
    "plt.show()"
   ]
  },
  {
   "cell_type": "code",
   "execution_count": 28,
   "metadata": {},
   "outputs": [],
   "source": [
    "### ---------------------- OPTIONAL PART 1 -------------------------------------------------------------------\n",
    "# This function called `calc_temps` will accept start date and end date in the format '%Y-%m-%d' \n",
    "# and return the minimum, average, and maximum temperatures for that range of dates\n",
    "\n",
    "def calc_temps(start_date, end_date):\n",
    "    select = [Measurement.date, func.min(Measurement.tobs), func.avg(Measurement.tobs), func.max(Measurement.tobs)]\n",
    "    return session.query(*select).\\\n",
    "        filter(Measurement.date >= start_date).filter(Measurement.date <= end_date).all()"
   ]
  },
  {
   "cell_type": "code",
   "execution_count": 31,
   "metadata": {},
   "outputs": [],
   "source": [
    "# Use your previous function `calc_temps` to calculate the tmin, tavg, and tmax \n",
    "# for your trip using the previous year's data for those same dates.\n",
    "trip_arrive = dt.date(2018, 4, 1)\n",
    "trip_leave = dt.date(2018, 4, 15)\n",
    "last_year = dt.timedelta(days=365)\n",
    "\n",
    "# calculate the min/max/avg from last year that matches my trip date\n",
    "data = calc_temps((trip_arrive-last_year), (trip_leave-last_year))"
   ]
  },
  {
   "cell_type": "code",
   "execution_count": 32,
   "metadata": {},
   "outputs": [
    {
     "data": {
      "image/png": "[encoded data removed]",
      "text/plain": [
       "<Figure size 180x432 with 1 Axes>"
      ]
     },
     "metadata": {
      "needs_background": "light"
     },
     "output_type": "display_data"
    }
   ],
   "source": [
    "# Plot the results from your previous query as a bar chart. \n",
    "# Put the results into a dataframe so that it can be plotted\n",
    "bar_trip_df = pd.DataFrame(data=data, columns=[\"date\",\"tmin\", \"tavg\", \"tmax\"])\n",
    "bar_trip_df = bar_trip_df.set_index('date', drop=True)\n",
    "\n",
    "#Create variables for my plot\n",
    "plot_date = bar_trip_df.index.values\n",
    "plot_tmin = bar_trip_df['tmin']\n",
    "plot_tavg = bar_trip_df['tavg']\n",
    "plot_tmax = bar_trip_df['tmax']\n",
    "\n",
    "# Use \"Trip Avg Temp\" as your Title\n",
    "# Use the average temperature for the y value\n",
    "# Use the peak-to-peak (tmax-tmin) value as the y error bar (yerr)\n",
    "diff = bar_trip_df['tmax'] - bar_trip_df['tmin']\n",
    "plt.figure(figsize=[2.5, 6])\n",
    "pavg = plt.bar(plot_date, plot_tavg, yerr=diff, color=\"lightsalmon\", alpha=.5, label=\"Error Bar is Max-Min\")\n",
    "plt.ylabel('Temp (F)')\n",
    "plt.title('Trip Avg Temp')\n",
    "plt.legend()\n",
    "plt.yticks(np.arange(0, 120, 20), fontsize=12)\n",
    "plt.savefig(\"Output/Bar_MyTrip_Avg_Temp.png\")\n",
    "plt.show()"
   ]
  },
  {
   "cell_type": "code",
   "execution_count": 36,
   "metadata": {},
   "outputs": [
    {
     "name": "stdout",
     "output_type": "stream",
     "text": [
      "Historical Rainfall Per Weather Station - Descending order\n",
      "Trip Dates: 2018-04-01 - 2018-04-15\n",
      "Most Recent Data Search Dates: 2017-04-01 - 2017-04-15\n",
      "\n",
      "Station:  USC00516128\n",
      "    Rainfall:  5.75  \n",
      "    Location:  MANOA LYON ARBO 785.2, HI US\n",
      "    Latitude:  21.3331      Longitude:  -157.8025  Elevation:  152.4\n",
      "\n",
      "Station:  USC00519281\n",
      "    Rainfall:  4.14  \n",
      "    Location:  WAIHEE 837.5, HI US\n",
      "    Latitude:  21.45167      Longitude:  -157.84888999999998  Elevation:  32.9\n",
      "\n",
      "Station:  USC00513117\n",
      "    Rainfall:  1.64  \n",
      "    Location:  KANEOHE 838.1, HI US\n",
      "    Latitude:  21.4234      Longitude:  -157.8015  Elevation:  14.6\n",
      "\n",
      "Station:  USC00514830\n",
      "    Rainfall:  0.90  \n",
      "    Location:  KUALOA RANCH HEADQUARTERS 886.9, HI US\n",
      "    Latitude:  21.5213      Longitude:  -157.8374  Elevation:  7.0\n",
      "\n",
      "Station:  USC00519523\n",
      "    Rainfall:  0.36  \n",
      "    Location:  WAIMANALO EXPERIMENTAL FARM, HI US\n",
      "    Latitude:  21.33556      Longitude:  -157.71139  Elevation:  19.5\n",
      "\n",
      "Station:  USC00519397\n",
      "    Rainfall:  0.27  \n",
      "    Location:  WAIKIKI 717.2, HI US\n",
      "    Latitude:  21.2716      Longitude:  -157.8168  Elevation:  3.0\n",
      "\n",
      "Station:  USC00517948\n",
      "    Rainfall:  0.00  \n",
      "    Location:  PEARL CITY, HI US\n",
      "    Latitude:  21.3934      Longitude:  -157.9751  Elevation:  11.9\n",
      "\n"
     ]
    }
   ],
   "source": [
    "#### ------------------------ OPTIONAL PART - 2 -----------------------------------------------------------\n",
    "# Calculate the rainfall per weather station for your trip dates using the previous year's matching dates.\n",
    "# Sort this in descending order by precipitation amount and list the station, name, latitude, longitude, and elevation\n",
    "lst_year_arrive = trip_arrive - last_year\n",
    "lst_year_leave = trip_leave - last_year\n",
    "\n",
    "results = session.query(Station.station,\n",
    "                  func.sum(Measurement.prcp),\n",
    "                  Station.name,\n",
    "                  Station.latitude,\n",
    "                  Station.longitude,\n",
    "                  Station.elevation)\\\n",
    ".filter(Measurement.station == Station.station)\\\n",
    ".filter(Measurement.date >= lst_year_arrive)\\\n",
    ".filter(Measurement.date <= lst_year_leave)\\\n",
    ".group_by(Station.station)\\\n",
    ".order_by(func.sum(Measurement.prcp).desc())\n",
    "\n",
    "# A nice layout to read the results\n",
    "print (f\"Historical Rainfall Per Weather Station - Descending order\")\n",
    "print(f\"Trip Dates: {trip_arrive} - {trip_leave}\")\n",
    "print(f\"Most Recent Data Search Dates: {lst_year_arrive} - {lst_year_leave}\")\n",
    "print()\n",
    "for row in results:\n",
    "    rain = \"{0:.2f}\".format(row[1])\n",
    "    print (f\"Station:  {row[0]}\\n    Rainfall:  {rain}  \\n    Location:  {row[2]}\\n    Latitude:  {row[3]}  \\\n",
    "    Longitude:  {row[4]}  Elevation:  {row[5]}\")\n",
    "    print()       "
   ]
  },
  {
   "cell_type": "markdown",
   "metadata": {},
   "source": [
    "## Optional Challenge Assignment"
   ]
  },
  {
   "cell_type": "code",
   "execution_count": 38,
   "metadata": {},
   "outputs": [
    {
     "data": {
      "text/plain": [
       "[(62.0, 69.15384615384616, 77.0)]"
      ]
     },
     "execution_count": 38,
     "metadata": {},
     "output_type": "execute_result"
    }
   ],
   "source": [
    "# Create a query that will calculate the daily normals \n",
    "# (i.e. the averages for tmin, tmax, and tavg for all historic data matching a specific month and day)\n",
    "def daily_normals(date):\n",
    "    sel = [func.min(Measurement.tobs), func.avg(Measurement.tobs), func.max(Measurement.tobs)]\n",
    "    return session.query(*sel).filter(func.strftime(\"%m-%d\", Measurement.date) == date).all()\n",
    "    \n",
    "daily_normals(\"01-01\")"
   ]
  },
  {
   "cell_type": "code",
   "execution_count": 58,
   "metadata": {},
   "outputs": [
    {
     "data": {
      "image/png": "[encoded data removed]",
      "text/plain": [
       "<Figure size 864x576 with 1 Axes>"
      ]
     },
     "metadata": {
      "needs_background": "light"
     },
     "output_type": "display_data"
    }
   ],
   "source": [
    "# create a list of dates for your trip \n",
    "trip_dates = pd.date_range(trip_arrive, trip_leave)\n",
    "\n",
    "# format it to %m-%d\n",
    "trip_mmdd = trip_dates.strftime('%m-%d')\n",
    "\n",
    "# calculate the normals for each date string and append the results to a list\n",
    "normals_list = []\n",
    "for trip_date in trip_mmdd:\n",
    "    # call daily_normals function to return the tuple list\n",
    "    normals_list.append(*daily_normals(trip_date))\n",
    "\n",
    "# make a normal df from the normals list\n",
    "normals_df = pd.DataFrame(normals_list, columns = ['Tmin', 'Tavg', 'Tmax'])\n",
    "# make the trip dates the index\n",
    "normals_df['Date'] = trip_dates\n",
    "normals_df = normals_df.set_index('Date')\n",
    "\n",
    "# Now plot the results \n",
    "# the colors list\n",
    "colors = ['blue', 'salmon', 'bisque']\n",
    "\n",
    "normals_df.plot(kind='area', figsize=(12, 8), stacked=False, x_compat=True, color=colors, alpha=.5, title='Predicted Temperatures for Trip', rot=45)\n",
    "plt.xlabel('')\n",
    "plt.ylabel('Temp (F)')\n",
    "plt.savefig(\"Output/Predicted_Temperatures_for_Trip.png\")\n",
    "plt.show()"
   ]
  },
  {
   "cell_type": "code",
   "execution_count": null,
   "metadata": {},
   "outputs": [],
   "source": []
  }
 ],
 "metadata": {
  "kernel_info": {
   "name": "python3"
  },
  "kernelspec": {
   "display_name": "Python 3",
   "language": "python",
   "name": "python3"
  },
  "language_info": {
   "codemirror_mode": {
    "name": "ipython",
    "version": 3
   },
   "file_extension": ".py",
   "mimetype": "text/x-python",
   "name": "python",
   "nbconvert_exporter": "python",
   "pygments_lexer": "ipython3",
   "version": "3.7.0"
  },
  "nteract": {
   "version": "0.9.1"
  },
  "varInspector": {
   "cols": {
    "lenName": 16,
    "lenType": 16,
    "lenVar": 40
   },
   "kernels_config": {
    "python": {
     "delete_cmd_postfix": "",
     "delete_cmd_prefix": "del ",
     "library": "var_list.py",
     "varRefreshCmd": "print(var_dic_list())"
    },
    "r": {
     "delete_cmd_postfix": ") ",
     "delete_cmd_prefix": "rm(",
     "library": "var_list.r",
     "varRefreshCmd": "cat(var_dic_list()) "
    }
   },
   "types_to_exclude": [
    "module",
    "function",
    "builtin_function_or_method",
    "instance",
    "_Feature"
   ],
   "window_display": false
  }
 },
 "nbformat": 4,
 "nbformat_minor": 2
}
